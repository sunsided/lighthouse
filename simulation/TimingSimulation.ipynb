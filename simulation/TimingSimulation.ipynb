{
 "cells": [
  {
   "cell_type": "code",
   "execution_count": 17,
   "metadata": {},
   "outputs": [],
   "source": [
    "import numpy as np\n",
    "from typing import Iterable, NamedTuple"
   ]
  },
  {
   "cell_type": "code",
   "execution_count": 1,
   "metadata": {},
   "outputs": [],
   "source": [
    "%matplotlib inline\n",
    "import matplotlib.pyplot as plt\n",
    "import seaborn as sns\n",
    "sns.set_style('whitegrid')"
   ]
  },
  {
   "cell_type": "code",
   "execution_count": 315,
   "metadata": {},
   "outputs": [],
   "source": [
    "Vector = NamedTuple('Vector', [('x', np.float32), ('y', np.float32), ('z', np.float32)])\n",
    "\n",
    "def to_vec(v: Vector) -> np.array:\n",
    "    return np.array(v).reshape((3, 1))\n",
    "\n",
    "def normalize(v: Vector) -> np.array:\n",
    "    v = np.array(v).reshape((3, 1)) \n",
    "    return v / np.linalg.norm(v, 2, 0)"
   ]
  },
  {
   "cell_type": "markdown",
   "metadata": {},
   "source": [
    "Let's define a `Pose` base class holding both the position and orientation of an object."
   ]
  },
  {
   "cell_type": "code",
   "execution_count": 331,
   "metadata": {},
   "outputs": [
    {
     "name": "stdout",
     "output_type": "stream",
     "text": [
      "[[ 0.98058068 -0.          0.19611614]\n",
      " [ 0.          1.          0.        ]\n",
      " [-0.19611614  0.          0.98058068]]\n"
     ]
    }
   ],
   "source": [
    "class Pose:\n",
    "    def __init__(self, pos: Vector):\n",
    "        self.pos = to_vec(pos)  # x,y,z\n",
    "        self.rot = np.matrix([[1, 0, 0], \n",
    "                              [0, 1, 0], \n",
    "                              [0, 0, 1]], dtype=np.float32)\n",
    "        \n",
    "    def lookat(self, pos: Vector, up: Vector=(0, 0, 1)):\n",
    "        v = normalize(to_vec(pos) - self.pos)\n",
    "        right = normalize(np.cross(normalize(up), v, axis=0))       \n",
    "        up = normalize(np.cross(v, right, axis=0))\n",
    "        self.rot = np.matrix(np.hstack([v, right, up]))\n",
    "        \n",
    "\n",
    "p = Pose((0, 0, 1))\n",
    "p.lookat((5, 0, 0))\n",
    "print(p.rot)"
   ]
  },
  {
   "cell_type": "markdown",
   "metadata": {},
   "source": [
    "Next, we define a sensor:"
   ]
  },
  {
   "cell_type": "code",
   "execution_count": 226,
   "metadata": {},
   "outputs": [],
   "source": [
    "class Sensor(Pose):\n",
    "    def __init__(self, pos: Vector=(0, 0, 0)):\n",
    "        super().__init__(pos)"
   ]
  },
  {
   "cell_type": "code",
   "execution_count": 227,
   "metadata": {},
   "outputs": [
    {
     "data": {
      "text/plain": [
       "matrix([[6.123234e-17],\n",
       "        [1.000000e+00],\n",
       "        [0.000000e+00]])"
      ]
     },
     "execution_count": 227,
     "metadata": {},
     "output_type": "execute_result"
    }
   ],
   "source": [
    "s = Sensor((1, 0, 0))\n",
    "(s.rot * np.matrix([[np.cos(np.deg2rad(90)), -np.sin(np.deg2rad(90)), 0],\n",
    "                    [np.sin(np.deg2rad(90)),  np.cos(np.deg2rad(90)), 0], \n",
    "                    [0, 0, 1]])) * s.pos"
   ]
  },
  {
   "cell_type": "markdown",
   "metadata": {},
   "source": [
    "And finally a Lighthouse base station:"
   ]
  },
  {
   "cell_type": "code",
   "execution_count": 361,
   "metadata": {},
   "outputs": [
    {
     "data": {
      "text/plain": [
       "matrix([[ 0.70710678, -0.        ,  0.70710678],\n",
       "        [ 0.        ,  1.        ,  0.        ],\n",
       "        [-0.70710678,  0.        ,  0.70710678]])"
      ]
     },
     "execution_count": 361,
     "metadata": {},
     "output_type": "execute_result"
    }
   ],
   "source": [
    "class Lighthouse(Pose):\n",
    "    def __init__(self, pos: Vector=(0, 0, 1)):\n",
    "        super().__init__(pos)\n",
    "    \n",
    "    def sweep(self, sensors: Iterable[Sensor]):\n",
    "        for s in sensors:\n",
    "            self.get_angle(s)\n",
    "            \n",
    "    def get_angle(self, pose: Pose) -> np.float32:\n",
    "        # TODO: Move into lighthouse reference coordinate system\n",
    "        print(self.rot.T * (pose.pos - self.pos))\n",
    "\n",
    "\n",
    "l = Lighthouse((0, 0, 5))\n",
    "l.lookat((5, 0, 0))\n",
    "l.rot"
   ]
  },
  {
   "cell_type": "code",
   "execution_count": 362,
   "metadata": {},
   "outputs": [
    {
     "name": "stdout",
     "output_type": "stream",
     "text": [
      "[[ 7.07106781e+00]\n",
      " [ 0.00000000e+00]\n",
      " [-1.11022302e-16]]\n"
     ]
    }
   ],
   "source": [
    "l.sweep([Sensor((5, 0, 0))])"
   ]
  }
 ],
 "metadata": {
  "kernelspec": {
   "display_name": "lighthouse",
   "language": "python",
   "name": "lighthouse"
  },
  "language_info": {
   "codemirror_mode": {
    "name": "ipython",
    "version": 3
   },
   "file_extension": ".py",
   "mimetype": "text/x-python",
   "name": "python",
   "nbconvert_exporter": "python",
   "pygments_lexer": "ipython3",
   "version": "3.6.8"
  }
 },
 "nbformat": 4,
 "nbformat_minor": 2
}
