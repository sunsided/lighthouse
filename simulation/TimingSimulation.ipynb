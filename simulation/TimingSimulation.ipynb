{
 "cells": [
  {
   "cell_type": "code",
   "execution_count": 169,
   "metadata": {},
   "outputs": [],
   "source": [
    "import numpy as np\n",
    "from typing import Iterable, NamedTuple"
   ]
  },
  {
   "cell_type": "code",
   "execution_count": 3,
   "metadata": {},
   "outputs": [],
   "source": [
    "%matplotlib inline\n",
    "import matplotlib.pyplot as plt\n",
    "import seaborn as sns\n",
    "sns.set_style('whitegrid')"
   ]
  },
  {
   "cell_type": "code",
   "execution_count": 4,
   "metadata": {},
   "outputs": [],
   "source": [
    "Vector = NamedTuple('Vector', [('x', np.float32), ('y', np.float32), ('z', np.float32)])\n",
    "\n",
    "def vec(v: Vector) -> np.array:\n",
    "    return np.array(v).reshape((3, 1))\n",
    "\n",
    "def norm(v: Vector) -> np.array:\n",
    "    return np.linalg.norm(vec(v), 2, 0)\n",
    "\n",
    "def normalize(v: Vector) -> np.array:\n",
    "    v = vec(v)\n",
    "    return v / norm(v)"
   ]
  },
  {
   "cell_type": "markdown",
   "metadata": {},
   "source": [
    "Let's define a `Pose` base class holding both the position and orientation of an object."
   ]
  },
  {
   "cell_type": "code",
   "execution_count": 5,
   "metadata": {},
   "outputs": [
    {
     "name": "stdout",
     "output_type": "stream",
     "text": [
      "[[ 0.98058068 -0.          0.19611614]\n",
      " [ 0.          1.          0.        ]\n",
      " [-0.19611614  0.          0.98058068]]\n"
     ]
    }
   ],
   "source": [
    "class Pose:\n",
    "    def __init__(self, pos: Vector):\n",
    "        self.pos = vec(pos)  # x,y,z\n",
    "        self.rot = np.matrix([[1, 0, 0], \n",
    "                              [0, 1, 0], \n",
    "                              [0, 0, 1]], dtype=np.float32)\n",
    "        \n",
    "    def lookat(self, pos: Vector, up: Vector=(0, 0, 1)):\n",
    "        v = normalize(vec(pos) - self.pos)\n",
    "        right = normalize(np.cross(normalize(up), v, axis=0))       \n",
    "        up = normalize(np.cross(v, right, axis=0))\n",
    "        self.rot = np.matrix(np.hstack([v, right, up]))\n",
    "\n",
    "p = Pose((0, 0, 1))\n",
    "p.lookat((5, 0, 0))\n",
    "print(p.rot)"
   ]
  },
  {
   "cell_type": "markdown",
   "metadata": {},
   "source": [
    "Next, we define a sensor:"
   ]
  },
  {
   "cell_type": "code",
   "execution_count": 6,
   "metadata": {},
   "outputs": [],
   "source": [
    "class Sensor(Pose):\n",
    "    def __init__(self, pos: Vector=(0, 0, 0)):\n",
    "        super().__init__(pos)"
   ]
  },
  {
   "cell_type": "markdown",
   "metadata": {},
   "source": [
    "And finally a Lighthouse base station:"
   ]
  },
  {
   "cell_type": "code",
   "execution_count": 183,
   "metadata": {},
   "outputs": [
    {
     "data": {
      "text/plain": [
       "matrix([[ 0.70710678, -0.        ,  0.70710678],\n",
       "        [ 0.        ,  1.        ,  0.        ],\n",
       "        [-0.70710678,  0.        ,  0.70710678]])"
      ]
     },
     "execution_count": 183,
     "metadata": {},
     "output_type": "execute_result"
    }
   ],
   "source": [
    "RelativePosition = NamedTuple('RelativePosition', [('h', float), ('v', float), \n",
    "                                                   ('dist', float), ('visible', bool)])\n",
    "SweepHitTime = NamedTuple('SweepHitTime', [('h', float), ('v', float), ('rel_pos', RelativePosition)])\n",
    "\n",
    "class Lighthouse(Pose):\n",
    "    def __init__(self, pos: Vector=(0, 0, 1)):\n",
    "        super().__init__(pos)\n",
    "        self.x = vec(Vector(1, 0, 0))\n",
    "        self.y = vec(Vector(0, 1, 0))\n",
    "        self.z = vec(Vector(0, 0, 1))\n",
    "        self.update_rate = 60  # Hz\n",
    "        self.omega = self.update_rate * (360. * np.pi/180.)  # rad/s\n",
    "    \n",
    "    def sweep(self, sensors: Iterable[Sensor]):\n",
    "        timings = []  # type: List[SweepHitTime]\n",
    "        for s in sensors:\n",
    "            # TODO: The sensor can only be seen if it's normal vector is pointing towards the Lighthouse\n",
    "            rel_pos = self.get_angle(s.pos)\n",
    "            t_h = rel_pos.h / self.omega\n",
    "            t_v = rel_pos.v / self.omega\n",
    "            timings.append(SweepHitTime(h=t_h, v=t_v, rel_pos=rel_pos))\n",
    "        return timings\n",
    "            \n",
    "    def get_angle(self, vec: np.array) -> RelativePosition:\n",
    "        # Obtain direction vector in Lighthouse coordinates\n",
    "        vec = self.rot.T * (vec - self.pos)\n",
    "        dist = norm(vec)\n",
    "        vec = vec / dist\n",
    "        \n",
    "        # Obtain horizontal angle (in Lighthouse coordinates)\n",
    "        cross_h = np.cross(vec, self.z, axis=0)\n",
    "        assert cross_h[0] == np.dot(vec.T, self.y), 'Cross product assumption failed'\n",
    "        angle_h = np.arccos(cross_h[0])\n",
    "        in_front_h = cross_h[1] <= 0\n",
    "        \n",
    "        # Obtain vertical angle (in Lighthouse coordinates)\n",
    "        cross_v = np.cross(self.y, vec, axis=0)\n",
    "        assert cross_v[0] == np.dot(vec.T, self.z), 'Cross product assumption failed'\n",
    "        angle_v = np.arccos(cross_v[0])\n",
    "        in_front_v = cross_v[2] <= 0\n",
    "        \n",
    "        assert in_front_h == in_front_v, 'Plane side assertion failed'\n",
    "        return RelativePosition(h=angle_h[0], v=angle_v[0], \n",
    "                                dist=dist[0], visible=in_front_h[0])\n",
    "        \n",
    "        \n",
    "\n",
    "\n",
    "l = Lighthouse((0, 0, 2.3))\n",
    "l.lookat((2.3, 0, 0))\n",
    "l.rot"
   ]
  },
  {
   "cell_type": "code",
   "execution_count": 188,
   "metadata": {},
   "outputs": [
    {
     "data": {
      "text/plain": [
       "[SweepHitTime(h=0.004636208618359907, v=0.0033270012858700035, rel_pos=RelativePosition(h=1.7478094723139002, v=1.2542499357807597, dist=3.4073450074801634, visible=True)),\n",
       " SweepHitTime(h=0.004787740612933439, v=0.0033372864727156397, rel_pos=RelativePosition(h=1.804935688426222, v=1.2581273598729656, dist=3.448187929913333, visible=True)),\n",
       " SweepHitTime(h=0.00482111289496012, v=0.0034121484930216446, rel_pos=RelativePosition(h=1.8175167423520477, v=1.2863496766361138, dist=3.2756678708318394, visible=True)),\n",
       " SweepHitTime(h=0.004661874667497884, v=0.003401821148964252, rel_pos=RelativePosition(h=1.7574853448841254, v=1.282456359649498, dist=3.232645975048922, visible=True))]"
      ]
     },
     "execution_count": 188,
     "metadata": {},
     "output_type": "execute_result"
    }
   ],
   "source": [
    "center_x =  2.9\n",
    "center_y = -.7\n",
    "center_z =  .8\n",
    "\n",
    "l.sweep([\n",
    "    Sensor(( .1 + center_x,  .1 + center_y, center_z)),\n",
    "    Sensor(( .1 + center_x, -.1 + center_y, center_z)),\n",
    "    Sensor((-.1 + center_x, -.1 + center_y, center_z)),\n",
    "    Sensor((-.1 + center_x,  .1 + center_y, center_z))\n",
    "])"
   ]
  }
 ],
 "metadata": {
  "kernelspec": {
   "display_name": "lighthouse",
   "language": "python",
   "name": "lighthouse"
  },
  "language_info": {
   "codemirror_mode": {
    "name": "ipython",
    "version": 3
   },
   "file_extension": ".py",
   "mimetype": "text/x-python",
   "name": "python",
   "nbconvert_exporter": "python",
   "pygments_lexer": "ipython3",
   "version": "3.6.8"
  }
 },
 "nbformat": 4,
 "nbformat_minor": 2
}
