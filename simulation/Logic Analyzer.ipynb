{
 "cells": [
  {
   "cell_type": "code",
   "execution_count": 1,
   "metadata": {},
   "outputs": [],
   "source": [
    "import pandas as pd\n",
    "import numpy as np"
   ]
  },
  {
   "cell_type": "code",
   "execution_count": 2,
   "metadata": {},
   "outputs": [],
   "source": [
    "import bitstring"
   ]
  },
  {
   "cell_type": "code",
   "execution_count": 3,
   "metadata": {},
   "outputs": [],
   "source": [
    "%matplotlib inline\n",
    "import matplotlib.pyplot as plt\n",
    "from mpl_toolkits.mplot3d import Axes3D\n",
    "import seaborn as sns\n",
    "sns.set_style('whitegrid')"
   ]
  },
  {
   "cell_type": "code",
   "execution_count": 4,
   "metadata": {},
   "outputs": [],
   "source": [
    "import os\n",
    "import glob\n",
    "import binascii\n",
    "import collections\n",
    "from struct import pack, unpack\n",
    "from enum import Enum\n",
    "from typing import NamedTuple"
   ]
  },
  {
   "cell_type": "code",
   "execution_count": 5,
   "metadata": {},
   "outputs": [
    {
     "data": {
      "text/plain": [
       "['../measurements/logic/24 MHz/Both in sight, obstructed (24 MHz, 240 M Samples).csv',\n",
       " '../measurements/logic/24 MHz/Only B enabled (24 MHz, 240 M Samples).csv',\n",
       " '../measurements/logic/24 MHz/Only C in sight (24 MHz, 240 M Samples).csv',\n",
       " '../measurements/logic/24 MHz/Both in sight (24 MHz, 240 M Samples).csv',\n",
       " '../measurements/logic/24 MHz/Only B in sight (24 MHz, 240 M Samples).csv']"
      ]
     },
     "execution_count": 5,
     "metadata": {},
     "output_type": "execute_result"
    }
   ],
   "source": [
    "glob.glob(os.path.join('..', 'measurements', 'logic', '24 MHz', '*.csv'))"
   ]
  },
  {
   "cell_type": "markdown",
   "metadata": {},
   "source": [
    "For the given data sequences, the sensor diode was placed **about 2 m** away from Lighthouse A (measured directly), roughly **1.4 m** to the left (when looking straight at it), as well as **1.5 m** beneath it. Depending on the direction of the sweep, this places the diode either relatively close to the beginning or the end of it.\n",
    "\n",
    "Likewise, the diode was placed about **1.5 m** to the right of Lighthouse B (when looking straight at it), as well as about **1.7 m** beneath it, and at a distance of 3.5 m (totaling about **4.2 m**)."
   ]
  },
  {
   "cell_type": "code",
   "execution_count": 6,
   "metadata": {},
   "outputs": [
    {
     "data": {
      "text/plain": [
       "['../measurements/logic/24 MHz/Both in sight, obstructed (24 MHz, 240 M Samples).csv',\n",
       " '../measurements/logic/24 MHz/Both in sight (24 MHz, 240 M Samples).csv']"
      ]
     },
     "execution_count": 6,
     "metadata": {},
     "output_type": "execute_result"
    }
   ],
   "source": [
    "csv_files = glob.glob(os.path.join('..', 'measurements', 'logic', '24 MHz', 'Both*.csv'))\n",
    "csv_files"
   ]
  },
  {
   "cell_type": "code",
   "execution_count": 7,
   "metadata": {},
   "outputs": [
    {
     "data": {
      "text/plain": [
       "Time [s]    float64\n",
       "Level         int64\n",
       "dtype: object"
      ]
     },
     "execution_count": 7,
     "metadata": {},
     "output_type": "execute_result"
    }
   ],
   "source": [
    "df_src = pd.read_csv(csv_files[1], names=['Time [s]', 'Level'], skiprows=1)\n",
    "df_src.dtypes"
   ]
  },
  {
   "cell_type": "code",
   "execution_count": 8,
   "metadata": {},
   "outputs": [
    {
     "data": {
      "text/html": [
       "<div>\n",
       "<style scoped>\n",
       "    .dataframe tbody tr th:only-of-type {\n",
       "        vertical-align: middle;\n",
       "    }\n",
       "\n",
       "    .dataframe tbody tr th {\n",
       "        vertical-align: top;\n",
       "    }\n",
       "\n",
       "    .dataframe thead th {\n",
       "        text-align: right;\n",
       "    }\n",
       "</style>\n",
       "<table border=\"1\" class=\"dataframe\">\n",
       "  <thead>\n",
       "    <tr style=\"text-align: right;\">\n",
       "      <th></th>\n",
       "      <th>Time [s]</th>\n",
       "      <th>Level</th>\n",
       "    </tr>\n",
       "  </thead>\n",
       "  <tbody>\n",
       "    <tr>\n",
       "      <th>count</th>\n",
       "      <td>7143.000000</td>\n",
       "      <td>7143.000000</td>\n",
       "    </tr>\n",
       "    <tr>\n",
       "      <th>mean</th>\n",
       "      <td>4.972771</td>\n",
       "      <td>0.499930</td>\n",
       "    </tr>\n",
       "    <tr>\n",
       "      <th>std</th>\n",
       "      <td>2.880369</td>\n",
       "      <td>0.500035</td>\n",
       "    </tr>\n",
       "    <tr>\n",
       "      <th>min</th>\n",
       "      <td>-0.005241</td>\n",
       "      <td>0.000000</td>\n",
       "    </tr>\n",
       "    <tr>\n",
       "      <th>25%</th>\n",
       "      <td>2.480376</td>\n",
       "      <td>0.000000</td>\n",
       "    </tr>\n",
       "    <tr>\n",
       "      <th>50%</th>\n",
       "      <td>4.961085</td>\n",
       "      <td>0.000000</td>\n",
       "    </tr>\n",
       "    <tr>\n",
       "      <th>75%</th>\n",
       "      <td>7.459203</td>\n",
       "      <td>1.000000</td>\n",
       "    </tr>\n",
       "    <tr>\n",
       "      <th>max</th>\n",
       "      <td>9.994849</td>\n",
       "      <td>1.000000</td>\n",
       "    </tr>\n",
       "  </tbody>\n",
       "</table>\n",
       "</div>"
      ],
      "text/plain": [
       "          Time [s]        Level\n",
       "count  7143.000000  7143.000000\n",
       "mean      4.972771     0.499930\n",
       "std       2.880369     0.500035\n",
       "min      -0.005241     0.000000\n",
       "25%       2.480376     0.000000\n",
       "50%       4.961085     0.000000\n",
       "75%       7.459203     1.000000\n",
       "max       9.994849     1.000000"
      ]
     },
     "execution_count": 8,
     "metadata": {},
     "output_type": "execute_result"
    }
   ],
   "source": [
    "df_src.describe()"
   ]
  },
  {
   "cell_type": "code",
   "execution_count": 9,
   "metadata": {},
   "outputs": [
    {
     "data": {
      "text/html": [
       "<div>\n",
       "<style scoped>\n",
       "    .dataframe tbody tr th:only-of-type {\n",
       "        vertical-align: middle;\n",
       "    }\n",
       "\n",
       "    .dataframe tbody tr th {\n",
       "        vertical-align: top;\n",
       "    }\n",
       "\n",
       "    .dataframe thead th {\n",
       "        text-align: right;\n",
       "    }\n",
       "</style>\n",
       "<table border=\"1\" class=\"dataframe\">\n",
       "  <thead>\n",
       "    <tr style=\"text-align: right;\">\n",
       "      <th></th>\n",
       "      <th>Time [s]</th>\n",
       "      <th>Level</th>\n",
       "    </tr>\n",
       "  </thead>\n",
       "  <tbody>\n",
       "    <tr>\n",
       "      <th>0</th>\n",
       "      <td>-0.005241</td>\n",
       "      <td>0</td>\n",
       "    </tr>\n",
       "    <tr>\n",
       "      <th>1</th>\n",
       "      <td>0.000000</td>\n",
       "      <td>1</td>\n",
       "    </tr>\n",
       "    <tr>\n",
       "      <th>2</th>\n",
       "      <td>0.000075</td>\n",
       "      <td>0</td>\n",
       "    </tr>\n",
       "    <tr>\n",
       "      <th>3</th>\n",
       "      <td>0.000419</td>\n",
       "      <td>1</td>\n",
       "    </tr>\n",
       "    <tr>\n",
       "      <th>4</th>\n",
       "      <td>0.000530</td>\n",
       "      <td>0</td>\n",
       "    </tr>\n",
       "    <tr>\n",
       "      <th>5</th>\n",
       "      <td>0.003090</td>\n",
       "      <td>1</td>\n",
       "    </tr>\n",
       "    <tr>\n",
       "      <th>6</th>\n",
       "      <td>0.003104</td>\n",
       "      <td>0</td>\n",
       "    </tr>\n",
       "    <tr>\n",
       "      <th>7</th>\n",
       "      <td>0.008333</td>\n",
       "      <td>1</td>\n",
       "    </tr>\n",
       "  </tbody>\n",
       "</table>\n",
       "</div>"
      ],
      "text/plain": [
       "   Time [s]  Level\n",
       "0 -0.005241      0\n",
       "1  0.000000      1\n",
       "2  0.000075      0\n",
       "3  0.000419      1\n",
       "4  0.000530      0\n",
       "5  0.003090      1\n",
       "6  0.003104      0\n",
       "7  0.008333      1"
      ]
     },
     "execution_count": 9,
     "metadata": {},
     "output_type": "execute_result"
    }
   ],
   "source": [
    "df_src.head(n=8)"
   ]
  },
  {
   "cell_type": "markdown",
   "metadata": {},
   "source": [
    "Let's visualize the pulses to see whether the data makes sense at a first glance."
   ]
  },
  {
   "cell_type": "code",
   "execution_count": 10,
   "metadata": {},
   "outputs": [
    {
     "data": {
      "image/png": "[encoded data removed]",
      "text/plain": [
       "<Figure size 864x360 with 1 Axes>"
      ]
     },
     "metadata": {
      "needs_background": "light"
     },
     "output_type": "display_data"
    }
   ],
   "source": [
    "fig, ax = plt.subplots(figsize=(12, 5))\n",
    "ax.step(x=df_src['Time [s]'], y=df_src['Level'], where='post');\n",
    "ax.set_xlim([0, 0.0035]);\n",
    "ax.set_xticklabels(['0 ms', '0.5 ms', '1 ms', '1.5 ms', '2 ms', '2.5 ms', '3 ms', '3.5 ms']);\n",
    "ax.set_yticklabels(['', 'Low', '', '', '', '', 'High']);"
   ]
  },
  {
   "cell_type": "markdown",
   "metadata": {},
   "source": [
    "That seems to be fine. Let's look at a longer sequence."
   ]
  },
  {
   "cell_type": "code",
   "execution_count": 11,
   "metadata": {},
   "outputs": [
    {
     "data": {
      "image/png": "[encoded data removed]",
      "text/plain": [
       "<Figure size 864x360 with 1 Axes>"
      ]
     },
     "metadata": {
      "needs_background": "light"
     },
     "output_type": "display_data"
    }
   ],
   "source": [
    "fig, ax = plt.subplots(figsize=(12, 5))\n",
    "ax.step(x=df_src['Time [s]'], y=df_src['Level'], where='post');\n",
    "ax.set_xlim([0, 0.05])\n",
    "ax.set_xticklabels(['0 ms', '10 ms', '20 ms', '30 ms', '40 ms', '50 ms'])\n",
    "ax.set_yticklabels(['', 'Low', '', '', '', '', 'High']);"
   ]
  },
  {
   "cell_type": "code",
   "execution_count": 12,
   "metadata": {},
   "outputs": [
    {
     "data": {
      "image/png": "[encoded data removed]",
      "text/plain": [
       "<Figure size 864x360 with 1 Axes>"
      ]
     },
     "metadata": {
      "needs_background": "light"
     },
     "output_type": "display_data"
    }
   ],
   "source": [
    "fig, ax = plt.subplots(figsize=(12, 5))\n",
    "ax.step(x=df_src['Time [s]'], y=df_src['Level'], where='post');\n",
    "ax.set_xlim([0, 0.1])\n",
    "ax.set_xticklabels(['0 ms', '20 ms', '40 ms', '60 ms', '80 ms', '100 ms'])\n",
    "ax.set_yticklabels(['', 'Low', '', '', '', '', 'High']);"
   ]
  },
  {
   "cell_type": "markdown",
   "metadata": {},
   "source": [
    "Next, we determine the durations of the high and low states by taking the piecewise difference to the next state."
   ]
  },
  {
   "cell_type": "code",
   "execution_count": 13,
   "metadata": {},
   "outputs": [
    {
     "data": {
      "text/html": [
       "<div>\n",
       "<style scoped>\n",
       "    .dataframe tbody tr th:only-of-type {\n",
       "        vertical-align: middle;\n",
       "    }\n",
       "\n",
       "    .dataframe tbody tr th {\n",
       "        vertical-align: top;\n",
       "    }\n",
       "\n",
       "    .dataframe thead th {\n",
       "        text-align: right;\n",
       "    }\n",
       "</style>\n",
       "<table border=\"1\" class=\"dataframe\">\n",
       "  <thead>\n",
       "    <tr style=\"text-align: right;\">\n",
       "      <th></th>\n",
       "      <th>Time [s]</th>\n",
       "      <th>Level</th>\n",
       "      <th>Duration [s]</th>\n",
       "    </tr>\n",
       "  </thead>\n",
       "  <tbody>\n",
       "    <tr>\n",
       "      <th>0</th>\n",
       "      <td>-0.005241</td>\n",
       "      <td>0</td>\n",
       "      <td>0.005241</td>\n",
       "    </tr>\n",
       "    <tr>\n",
       "      <th>1</th>\n",
       "      <td>0.000000</td>\n",
       "      <td>1</td>\n",
       "      <td>0.000075</td>\n",
       "    </tr>\n",
       "    <tr>\n",
       "      <th>2</th>\n",
       "      <td>0.000075</td>\n",
       "      <td>0</td>\n",
       "      <td>0.000344</td>\n",
       "    </tr>\n",
       "    <tr>\n",
       "      <th>3</th>\n",
       "      <td>0.000419</td>\n",
       "      <td>1</td>\n",
       "      <td>0.000111</td>\n",
       "    </tr>\n",
       "    <tr>\n",
       "      <th>4</th>\n",
       "      <td>0.000530</td>\n",
       "      <td>0</td>\n",
       "      <td>0.002561</td>\n",
       "    </tr>\n",
       "    <tr>\n",
       "      <th>5</th>\n",
       "      <td>0.003090</td>\n",
       "      <td>1</td>\n",
       "      <td>0.000014</td>\n",
       "    </tr>\n",
       "    <tr>\n",
       "      <th>6</th>\n",
       "      <td>0.003104</td>\n",
       "      <td>0</td>\n",
       "      <td>0.005228</td>\n",
       "    </tr>\n",
       "    <tr>\n",
       "      <th>7</th>\n",
       "      <td>0.008333</td>\n",
       "      <td>1</td>\n",
       "      <td>0.000107</td>\n",
       "    </tr>\n",
       "    <tr>\n",
       "      <th>8</th>\n",
       "      <td>0.008439</td>\n",
       "      <td>0</td>\n",
       "      <td>0.000313</td>\n",
       "    </tr>\n",
       "    <tr>\n",
       "      <th>9</th>\n",
       "      <td>0.008752</td>\n",
       "      <td>1</td>\n",
       "      <td>0.000059</td>\n",
       "    </tr>\n",
       "  </tbody>\n",
       "</table>\n",
       "</div>"
      ],
      "text/plain": [
       "   Time [s]  Level  Duration [s]\n",
       "0 -0.005241      0      0.005241\n",
       "1  0.000000      1      0.000075\n",
       "2  0.000075      0      0.000344\n",
       "3  0.000419      1      0.000111\n",
       "4  0.000530      0      0.002561\n",
       "5  0.003090      1      0.000014\n",
       "6  0.003104      0      0.005228\n",
       "7  0.008333      1      0.000107\n",
       "8  0.008439      0      0.000313\n",
       "9  0.008752      1      0.000059"
      ]
     },
     "execution_count": 13,
     "metadata": {},
     "output_type": "execute_result"
    }
   ],
   "source": [
    "df_durations = (df_src.shift(-1)['Time [s]'] - df_src['Time [s]']).to_frame(name='Duration [s]')\n",
    "df = df_src.join(df_durations)\n",
    "df.head(10)"
   ]
  },
  {
   "cell_type": "markdown",
   "metadata": {},
   "source": [
    "For further insights, we're going to isolate the High pulses and convert them to microseconds."
   ]
  },
  {
   "cell_type": "code",
   "execution_count": 14,
   "metadata": {},
   "outputs": [],
   "source": [
    "def sec_to_us(t: float) -> float:\n",
    "    return t * 1_000_000"
   ]
  },
  {
   "cell_type": "code",
   "execution_count": 15,
   "metadata": {},
   "outputs": [],
   "source": [
    "def us_to_sec(t: float) -> float:\n",
    "    return t / 1_000_000"
   ]
  },
  {
   "cell_type": "code",
   "execution_count": 16,
   "metadata": {},
   "outputs": [],
   "source": [
    "df_high_filter = df['Level'] > 0\n",
    "df_high_durations = df.loc[df_high_filter, 'Duration [s]']\n",
    "df_high_durations_us = sec_to_us(df_high_durations).to_frame(name='Duration [µs]').dropna()"
   ]
  },
  {
   "cell_type": "markdown",
   "metadata": {},
   "source": [
    "The statistics give that the pulse duration ranges from 0.625 µs to about 137.792 µs:"
   ]
  },
  {
   "cell_type": "code",
   "execution_count": 17,
   "metadata": {},
   "outputs": [
    {
     "data": {
      "text/html": [
       "<div>\n",
       "<style scoped>\n",
       "    .dataframe tbody tr th:only-of-type {\n",
       "        vertical-align: middle;\n",
       "    }\n",
       "\n",
       "    .dataframe tbody tr th {\n",
       "        vertical-align: top;\n",
       "    }\n",
       "\n",
       "    .dataframe thead th {\n",
       "        text-align: right;\n",
       "    }\n",
       "</style>\n",
       "<table border=\"1\" class=\"dataframe\">\n",
       "  <thead>\n",
       "    <tr style=\"text-align: right;\">\n",
       "      <th></th>\n",
       "      <th>Duration [µs]</th>\n",
       "    </tr>\n",
       "  </thead>\n",
       "  <tbody>\n",
       "    <tr>\n",
       "      <th>count</th>\n",
       "      <td>3571.000000</td>\n",
       "    </tr>\n",
       "    <tr>\n",
       "      <th>mean</th>\n",
       "      <td>66.567266</td>\n",
       "    </tr>\n",
       "    <tr>\n",
       "      <th>std</th>\n",
       "      <td>46.740835</td>\n",
       "    </tr>\n",
       "    <tr>\n",
       "      <th>min</th>\n",
       "      <td>0.458333</td>\n",
       "    </tr>\n",
       "    <tr>\n",
       "      <th>25%</th>\n",
       "      <td>14.083333</td>\n",
       "    </tr>\n",
       "    <tr>\n",
       "      <th>50%</th>\n",
       "      <td>74.833333</td>\n",
       "    </tr>\n",
       "    <tr>\n",
       "      <th>75%</th>\n",
       "      <td>106.583333</td>\n",
       "    </tr>\n",
       "    <tr>\n",
       "      <th>max</th>\n",
       "      <td>137.875000</td>\n",
       "    </tr>\n",
       "  </tbody>\n",
       "</table>\n",
       "</div>"
      ],
      "text/plain": [
       "       Duration [µs]\n",
       "count    3571.000000\n",
       "mean       66.567266\n",
       "std        46.740835\n",
       "min         0.458333\n",
       "25%        14.083333\n",
       "50%        74.833333\n",
       "75%       106.583333\n",
       "max       137.875000"
      ]
     },
     "execution_count": 17,
     "metadata": {},
     "output_type": "execute_result"
    }
   ],
   "source": [
    "df_high_durations_us.describe()"
   ]
  },
  {
   "cell_type": "markdown",
   "metadata": {},
   "source": [
    "Given the lower and upper boundary for the pulse durations, we can now inspect the histogram.\n",
    "\n",
    "The dotted magenta lines show the positions of the defined OOTX (Omnidirectional Optical Transmitter) sync pulse lengths at\n",
    "\n",
    "- 62.5 µs, \n",
    "- 72.9 µs, \n",
    "- 83.3 µs, \n",
    "- 93.8 µs,\n",
    "- 104 µs,\n",
    "- 115 µs,\n",
    "- 125 µs and\n",
    "- 135 µs.\n",
    "\n",
    "We can see that the histogram peaks are offset from these expected locations quite noticeably. The dash-dotted magenta line indicates the lower bound for peaks, as described later."
   ]
  },
  {
   "cell_type": "code",
   "execution_count": 18,
   "metadata": {},
   "outputs": [],
   "source": [
    "sync_peak_end = np.array([62.5, 72.9, 83.3, 93.8, 104, 115, 125, 135])"
   ]
  },
  {
   "cell_type": "code",
   "execution_count": 19,
   "metadata": {},
   "outputs": [
    {
     "data": {
      "image/png": "[encoded data removed]",
      "text/plain": [
       "<Figure size 936x360 with 1 Axes>"
      ]
     },
     "metadata": {
      "needs_background": "light"
     },
     "output_type": "display_data"
    }
   ],
   "source": [
    "fig, ax = plt.subplots(figsize=(13, 5))\n",
    "df_high_durations_us.plot.hist(bins=np.arange(0, 140, 1), ax=ax);\n",
    "for x in sync_peak_end:\n",
    "    ax.axvline(x, 0, 300, color='m', linestyle=':')\n",
    "ax.axvline(52, 0, 300, color='m', linestyle='-.')\n",
    "ax.set_xlabel('Duration [µs]')\n",
    "ax.set_title('High pulse durations')\n",
    "ax.grid(b=True, which='minor', linestyle=':')\n",
    "ax.minorticks_on()\n",
    "sns.despine()\n",
    "fig.tight_layout();"
   ]
  },
  {
   "cell_type": "markdown",
   "metadata": {},
   "source": [
    "We also see a high number of pulses at about 7 … 8 µs and 13 … 14 µs. We can expect these to be the laser sweeps."
   ]
  },
  {
   "cell_type": "markdown",
   "metadata": {},
   "source": [
    "Pulse length durations as described [here](https://github.com/widemeadows/LighthouseRedox/blob/master/docs/Light%20Emissions.md):\n",
    "\n",
    "> Name | skip | data | axis  | length (ticks) | length (µs)\n",
    "> -----|------|------|-------|----------------|------------\n",
    "> j0   | 0    | 0    | 0     | 3000           | 62.5\n",
    "> k0   | 0    | 0    | 1     | 3500           | 72.9\n",
    "> j1   | 0    | 1    | 0     | 4000           | 83.3\n",
    "> k1   | 0    | 1    | 1     | 4500           | 93.8\n",
    "> j2   | 1    | 0    | 0     | 5000           | 104\n",
    "> k2   | 1    | 0    | 1     | 5500           | 115\n",
    "> j3   | 1    | 1    | 0     | 6000           | 125\n",
    "> k3   | 1    | 1    | 1     | 6500           | 135\n",
    "> \n",
    "> Each length represents a combination of 3 bit states:\n",
    ">\n",
    "> - The **axis** bit determines the rotation axis for the laser sweep that follows the sync pulse.\n",
    "> - The **skip** bit determines if the rotor will skip this period and leave its laser off.\n",
    "> - The **data** bits of consecutive sync pulses of a base station concatenated together yield a data structure called OOTX Frame.\n",
    ">\n",
    "> In reality the listed sync pulse lengths should be considered maximum values. The real length should be in a 500 tick window ending at the listed length.\n",
    "> E.g. sync pulse _j0_ can be 2501-3000 ticks long depending on the position and orientation relative to the base station.\n",
    ">\n",
    "> Given a measured pulse length the best match can be found using:\n",
    ">\n",
    "> `[skip,data,axis] = (length - 2501) / 500`\n",
    ">\n",
    "> Given the 3 bits the pulse length can be calculated:\n",
    ">\n",
    "> `length = 3000 + axis*500 + data*1000 + skip*2000`"
   ]
  },
  {
   "cell_type": "markdown",
   "metadata": {},
   "source": [
    "From the above table, we find that each \"tick\" represents about 0.0208 µs, or 20.83 ns:"
   ]
  },
  {
   "cell_type": "code",
   "execution_count": 20,
   "metadata": {},
   "outputs": [
    {
     "data": {
      "text/plain": [
       "0.020830375527250526"
      ]
     },
     "execution_count": 20,
     "metadata": {},
     "output_type": "execute_result"
    }
   ],
   "source": [
    "tick_us = (sync_peak_end / np.array(range(3000, 7000, 500))).mean()\n",
    "tick_us"
   ]
  },
  {
   "cell_type": "markdown",
   "metadata": {},
   "source": [
    "This duration resembles about 48 MHz, which has a period length of $20.8\\bar 3 \\,s$."
   ]
  },
  {
   "cell_type": "code",
   "execution_count": 21,
   "metadata": {},
   "outputs": [
    {
     "data": {
      "text/plain": [
       "48006815.7528792"
      ]
     },
     "execution_count": 21,
     "metadata": {},
     "output_type": "execute_result"
    }
   ],
   "source": [
    "1/us_to_sec(tick_us)"
   ]
  },
  {
   "cell_type": "markdown",
   "metadata": {},
   "source": [
    "What we know is that 48 MHz is related to USB and the numbers align nicely for the above equations. For a microcontroller running at 72 MHz, we'd use tick values in multiples of 750 instead:"
   ]
  },
  {
   "cell_type": "code",
   "execution_count": 22,
   "metadata": {},
   "outputs": [
    {
     "name": "stdout",
     "output_type": "stream",
     "text": [
      "[4500. 5250. 6000. 6750. 7500. 8250. 9000. 9750.] \n",
      " 750.0\n"
     ]
    }
   ],
   "source": [
    "print(np.array(range(3000, 7000, 500)) / 48_000_000 * 72_000_000, '\\n',\n",
    "      500 / 48_000_000 * 72_000_000)"
   ]
  },
  {
   "cell_type": "markdown",
   "metadata": {},
   "source": [
    "As for the skew, we allow for a window of 500 ticks at 48 MHz, or about 10.42 µs:"
   ]
  },
  {
   "cell_type": "code",
   "execution_count": 23,
   "metadata": {},
   "outputs": [
    {
     "data": {
      "text/plain": [
       "10.416666666666666"
      ]
     },
     "execution_count": 23,
     "metadata": {},
     "output_type": "execute_result"
    }
   ],
   "source": [
    "sec_to_us(500 / 48_000_000)"
   ]
  },
  {
   "cell_type": "markdown",
   "metadata": {},
   "source": [
    "Across all values, however, a skew of 10 µs seems to be safer:"
   ]
  },
  {
   "cell_type": "code",
   "execution_count": 24,
   "metadata": {},
   "outputs": [
    {
     "data": {
      "text/plain": [
       "array([10.4, 10.4, 10.5, 10.2, 11. , 10. , 10. ])"
      ]
     },
     "execution_count": 24,
     "metadata": {},
     "output_type": "execute_result"
    }
   ],
   "source": [
    "np.diff(sync_peak_end)"
   ]
  },
  {
   "cell_type": "code",
   "execution_count": 25,
   "metadata": {},
   "outputs": [
    {
     "data": {
      "text/plain": [
       "(2.0518284528683193, 4.170131892398609)"
      ]
     },
     "execution_count": 25,
     "metadata": {},
     "output_type": "execute_result"
    }
   ],
   "source": [
    "np.sqrt(1.4**2 + 1.5**2), np.sqrt((1.5**2 + 1.7**2) + 3.5**2)"
   ]
  },
  {
   "cell_type": "code",
   "execution_count": 26,
   "metadata": {},
   "outputs": [
    {
     "data": {
      "text/plain": [
       "OOTXPulse(valid=True, name='k-1', skip=False, data=1, axis=1)"
      ]
     },
     "execution_count": 26,
     "metadata": {},
     "output_type": "execute_result"
    }
   ],
   "source": [
    "OOTXPulse = NamedTuple('OOTXPulse', [('valid', bool), ('name', str), \n",
    "                                     ('skip', bool), ('data', int), ('axis', int)])\n",
    "\n",
    "invalid_pulse = OOTXPulse(valid=False, name='None', skip=False, data=0, axis=0)\n",
    "\n",
    "ootx_pulses = [\n",
    "    OOTXPulse(valid=True, name='j-0', skip=False, data=0, axis=0),\n",
    "    OOTXPulse(valid=True, name='k-0', skip=False, data=0, axis=1),\n",
    "    OOTXPulse(valid=True, name='j-1', skip=False, data=1, axis=0),\n",
    "    OOTXPulse(valid=True, name='k-1', skip=False, data=1, axis=1),\n",
    "    OOTXPulse(valid=True, name='j-2', skip=True, data=0, axis=0),\n",
    "    OOTXPulse(valid=True, name='k-2', skip=True, data=0, axis=1),\n",
    "    OOTXPulse(valid=True, name='j-3', skip=True, data=1, axis=0),\n",
    "    OOTXPulse(valid=True, name='k-3', skip=True, data=1, axis=1)\n",
    "]\n",
    "\n",
    "def classify_duration(duration: float) -> OOTXPulse:\n",
    "    ticks = us_to_sec(duration) * 48_000_000\n",
    "    pulse_id = int((ticks - 2501) // 500)\n",
    "    if pulse_id < 0 or pulse_id >= len(ootx_pulses):\n",
    "        return invalid_pulse\n",
    "    return ootx_pulses[pulse_id]\n",
    "\n",
    "classify_duration(93.0)"
   ]
  },
  {
   "cell_type": "code",
   "execution_count": 27,
   "metadata": {},
   "outputs": [
    {
     "data": {
      "text/html": [
       "<div>\n",
       "<style scoped>\n",
       "    .dataframe tbody tr th:only-of-type {\n",
       "        vertical-align: middle;\n",
       "    }\n",
       "\n",
       "    .dataframe tbody tr th {\n",
       "        vertical-align: top;\n",
       "    }\n",
       "\n",
       "    .dataframe thead th {\n",
       "        text-align: right;\n",
       "    }\n",
       "</style>\n",
       "<table border=\"1\" class=\"dataframe\">\n",
       "  <thead>\n",
       "    <tr style=\"text-align: right;\">\n",
       "      <th></th>\n",
       "      <th>OOTX</th>\n",
       "      <th>OOTX Name</th>\n",
       "      <th>OOTX Skip</th>\n",
       "      <th>OOTX Data</th>\n",
       "      <th>OOTX Axis</th>\n",
       "    </tr>\n",
       "  </thead>\n",
       "  <tbody>\n",
       "    <tr>\n",
       "      <th>1</th>\n",
       "      <td>True</td>\n",
       "      <td>j-1</td>\n",
       "      <td>False</td>\n",
       "      <td>1</td>\n",
       "      <td>0</td>\n",
       "    </tr>\n",
       "    <tr>\n",
       "      <th>3</th>\n",
       "      <td>True</td>\n",
       "      <td>k-2</td>\n",
       "      <td>True</td>\n",
       "      <td>0</td>\n",
       "      <td>1</td>\n",
       "    </tr>\n",
       "    <tr>\n",
       "      <th>7</th>\n",
       "      <td>True</td>\n",
       "      <td>k-2</td>\n",
       "      <td>True</td>\n",
       "      <td>0</td>\n",
       "      <td>1</td>\n",
       "    </tr>\n",
       "    <tr>\n",
       "      <th>9</th>\n",
       "      <td>True</td>\n",
       "      <td>j-0</td>\n",
       "      <td>False</td>\n",
       "      <td>0</td>\n",
       "      <td>0</td>\n",
       "    </tr>\n",
       "    <tr>\n",
       "      <th>15</th>\n",
       "      <td>True</td>\n",
       "      <td>k-1</td>\n",
       "      <td>False</td>\n",
       "      <td>1</td>\n",
       "      <td>1</td>\n",
       "    </tr>\n",
       "    <tr>\n",
       "      <th>19</th>\n",
       "      <td>True</td>\n",
       "      <td>k-1</td>\n",
       "      <td>False</td>\n",
       "      <td>1</td>\n",
       "      <td>1</td>\n",
       "    </tr>\n",
       "    <tr>\n",
       "      <th>21</th>\n",
       "      <td>True</td>\n",
       "      <td>j-3</td>\n",
       "      <td>True</td>\n",
       "      <td>1</td>\n",
       "      <td>0</td>\n",
       "    </tr>\n",
       "    <tr>\n",
       "      <th>25</th>\n",
       "      <td>True</td>\n",
       "      <td>j-2</td>\n",
       "      <td>True</td>\n",
       "      <td>0</td>\n",
       "      <td>0</td>\n",
       "    </tr>\n",
       "    <tr>\n",
       "      <th>27</th>\n",
       "      <td>True</td>\n",
       "      <td>k-2</td>\n",
       "      <td>True</td>\n",
       "      <td>0</td>\n",
       "      <td>1</td>\n",
       "    </tr>\n",
       "    <tr>\n",
       "      <th>31</th>\n",
       "      <td>True</td>\n",
       "      <td>k-3</td>\n",
       "      <td>True</td>\n",
       "      <td>1</td>\n",
       "      <td>1</td>\n",
       "    </tr>\n",
       "    <tr>\n",
       "      <th>33</th>\n",
       "      <td>True</td>\n",
       "      <td>j-1</td>\n",
       "      <td>False</td>\n",
       "      <td>1</td>\n",
       "      <td>0</td>\n",
       "    </tr>\n",
       "    <tr>\n",
       "      <th>37</th>\n",
       "      <td>True</td>\n",
       "      <td>j-3</td>\n",
       "      <td>True</td>\n",
       "      <td>1</td>\n",
       "      <td>0</td>\n",
       "    </tr>\n",
       "    <tr>\n",
       "      <th>39</th>\n",
       "      <td>True</td>\n",
       "      <td>k-0</td>\n",
       "      <td>False</td>\n",
       "      <td>0</td>\n",
       "      <td>1</td>\n",
       "    </tr>\n",
       "  </tbody>\n",
       "</table>\n",
       "</div>"
      ],
      "text/plain": [
       "    OOTX OOTX Name  OOTX Skip  OOTX Data  OOTX Axis\n",
       "1   True       j-1      False          1          0\n",
       "3   True       k-2       True          0          1\n",
       "7   True       k-2       True          0          1\n",
       "9   True       j-0      False          0          0\n",
       "15  True       k-1      False          1          1\n",
       "19  True       k-1      False          1          1\n",
       "21  True       j-3       True          1          0\n",
       "25  True       j-2       True          0          0\n",
       "27  True       k-2       True          0          1\n",
       "31  True       k-3       True          1          1\n",
       "33  True       j-1      False          1          0\n",
       "37  True       j-3       True          1          0\n",
       "39  True       k-0      False          0          1"
      ]
     },
     "execution_count": 27,
     "metadata": {},
     "output_type": "execute_result"
    }
   ],
   "source": [
    "df_ootx = df_high_durations_us.apply(lambda row: \n",
    "                                     pd.Series(list(classify_duration(row['Duration [µs]'])),\n",
    "                                               index=['OOTX', 'OOTX Name', 'OOTX Skip', 'OOTX Data', 'OOTX Axis']),\n",
    "                                     result_type='expand', axis=1)\n",
    "is_ootx_filter = df_ootx['OOTX'] == True\n",
    "df_ootx = df_ootx[is_ootx_filter]\n",
    "df_ootx.head(n=13)"
   ]
  },
  {
   "cell_type": "markdown",
   "metadata": {},
   "source": [
    "From the above output we can observe the pattern that stations sweep both their vertical axes, then their horizontal axes (or vice versa) in an alternating pattern. Even though we cannot tell which base station is sending their pulse first, we know that they always pulse in the same order."
   ]
  },
  {
   "cell_type": "code",
   "execution_count": 28,
   "metadata": {},
   "outputs": [],
   "source": [
    "def classify_pulse(level: int, duration: float) -> str:\n",
    "    if level == 0:\n",
    "        return '-'\n",
    "    if 0.000005 <= duration <= 0.000015:\n",
    "        return 'Pulse'\n",
    "    if 0.000050 <= duration <= 0.000140:\n",
    "        return 'OOTX'\n",
    "    return 'Unknown'\n",
    "\n",
    "df_type = df.apply(lambda row: classify_pulse(row['Level'], row['Duration [s]']), axis=1).to_frame(name='Type').astype('category')"
   ]
  },
  {
   "cell_type": "markdown",
   "metadata": {},
   "source": [
    "We can now join together all data frames to classify each segment."
   ]
  },
  {
   "cell_type": "code",
   "execution_count": 29,
   "metadata": {},
   "outputs": [
    {
     "data": {
      "text/html": [
       "<div>\n",
       "<style scoped>\n",
       "    .dataframe tbody tr th:only-of-type {\n",
       "        vertical-align: middle;\n",
       "    }\n",
       "\n",
       "    .dataframe tbody tr th {\n",
       "        vertical-align: top;\n",
       "    }\n",
       "\n",
       "    .dataframe thead th {\n",
       "        text-align: right;\n",
       "    }\n",
       "</style>\n",
       "<table border=\"1\" class=\"dataframe\">\n",
       "  <thead>\n",
       "    <tr style=\"text-align: right;\">\n",
       "      <th></th>\n",
       "      <th>Time [s]</th>\n",
       "      <th>Level</th>\n",
       "      <th>Duration [s]</th>\n",
       "      <th>Duration [µs]</th>\n",
       "      <th>Type</th>\n",
       "      <th>OOTX Name</th>\n",
       "      <th>OOTX Skip</th>\n",
       "      <th>OOTX Data</th>\n",
       "      <th>OOTX Axis</th>\n",
       "    </tr>\n",
       "  </thead>\n",
       "  <tbody>\n",
       "    <tr>\n",
       "      <th>0</th>\n",
       "      <td>-0.005241</td>\n",
       "      <td>0</td>\n",
       "      <td>0.005241</td>\n",
       "      <td>5241.375000</td>\n",
       "      <td>-</td>\n",
       "      <td>NaN</td>\n",
       "      <td>NaN</td>\n",
       "      <td>NaN</td>\n",
       "      <td>NaN</td>\n",
       "    </tr>\n",
       "    <tr>\n",
       "      <th>1</th>\n",
       "      <td>0.000000</td>\n",
       "      <td>1</td>\n",
       "      <td>0.000075</td>\n",
       "      <td>74.583333</td>\n",
       "      <td>OOTX</td>\n",
       "      <td>j-1</td>\n",
       "      <td>False</td>\n",
       "      <td>1.0</td>\n",
       "      <td>0.0</td>\n",
       "    </tr>\n",
       "    <tr>\n",
       "      <th>2</th>\n",
       "      <td>0.000075</td>\n",
       "      <td>0</td>\n",
       "      <td>0.000344</td>\n",
       "      <td>344.125000</td>\n",
       "      <td>-</td>\n",
       "      <td>NaN</td>\n",
       "      <td>NaN</td>\n",
       "      <td>NaN</td>\n",
       "      <td>NaN</td>\n",
       "    </tr>\n",
       "    <tr>\n",
       "      <th>3</th>\n",
       "      <td>0.000419</td>\n",
       "      <td>1</td>\n",
       "      <td>0.000111</td>\n",
       "      <td>111.041667</td>\n",
       "      <td>OOTX</td>\n",
       "      <td>k-2</td>\n",
       "      <td>True</td>\n",
       "      <td>0.0</td>\n",
       "      <td>1.0</td>\n",
       "    </tr>\n",
       "    <tr>\n",
       "      <th>4</th>\n",
       "      <td>0.000530</td>\n",
       "      <td>0</td>\n",
       "      <td>0.002561</td>\n",
       "      <td>2560.500000</td>\n",
       "      <td>-</td>\n",
       "      <td>NaN</td>\n",
       "      <td>NaN</td>\n",
       "      <td>NaN</td>\n",
       "      <td>NaN</td>\n",
       "    </tr>\n",
       "    <tr>\n",
       "      <th>5</th>\n",
       "      <td>0.003090</td>\n",
       "      <td>1</td>\n",
       "      <td>0.000014</td>\n",
       "      <td>14.166667</td>\n",
       "      <td>Pulse</td>\n",
       "      <td>NaN</td>\n",
       "      <td>NaN</td>\n",
       "      <td>NaN</td>\n",
       "      <td>NaN</td>\n",
       "    </tr>\n",
       "    <tr>\n",
       "      <th>6</th>\n",
       "      <td>0.003104</td>\n",
       "      <td>0</td>\n",
       "      <td>0.005228</td>\n",
       "      <td>5228.375000</td>\n",
       "      <td>-</td>\n",
       "      <td>NaN</td>\n",
       "      <td>NaN</td>\n",
       "      <td>NaN</td>\n",
       "      <td>NaN</td>\n",
       "    </tr>\n",
       "    <tr>\n",
       "      <th>7</th>\n",
       "      <td>0.008333</td>\n",
       "      <td>1</td>\n",
       "      <td>0.000107</td>\n",
       "      <td>106.500000</td>\n",
       "      <td>OOTX</td>\n",
       "      <td>k-2</td>\n",
       "      <td>True</td>\n",
       "      <td>0.0</td>\n",
       "      <td>1.0</td>\n",
       "    </tr>\n",
       "    <tr>\n",
       "      <th>8</th>\n",
       "      <td>0.008439</td>\n",
       "      <td>0</td>\n",
       "      <td>0.000313</td>\n",
       "      <td>313.000000</td>\n",
       "      <td>-</td>\n",
       "      <td>NaN</td>\n",
       "      <td>NaN</td>\n",
       "      <td>NaN</td>\n",
       "      <td>NaN</td>\n",
       "    </tr>\n",
       "    <tr>\n",
       "      <th>9</th>\n",
       "      <td>0.008752</td>\n",
       "      <td>1</td>\n",
       "      <td>0.000059</td>\n",
       "      <td>58.666667</td>\n",
       "      <td>OOTX</td>\n",
       "      <td>j-0</td>\n",
       "      <td>False</td>\n",
       "      <td>0.0</td>\n",
       "      <td>0.0</td>\n",
       "    </tr>\n",
       "  </tbody>\n",
       "</table>\n",
       "</div>"
      ],
      "text/plain": [
       "   Time [s]  Level  Duration [s]  Duration [µs]   Type OOTX Name OOTX Skip  \\\n",
       "0 -0.005241      0      0.005241    5241.375000      -       NaN       NaN   \n",
       "1  0.000000      1      0.000075      74.583333   OOTX       j-1     False   \n",
       "2  0.000075      0      0.000344     344.125000      -       NaN       NaN   \n",
       "3  0.000419      1      0.000111     111.041667   OOTX       k-2      True   \n",
       "4  0.000530      0      0.002561    2560.500000      -       NaN       NaN   \n",
       "5  0.003090      1      0.000014      14.166667  Pulse       NaN       NaN   \n",
       "6  0.003104      0      0.005228    5228.375000      -       NaN       NaN   \n",
       "7  0.008333      1      0.000107     106.500000   OOTX       k-2      True   \n",
       "8  0.008439      0      0.000313     313.000000      -       NaN       NaN   \n",
       "9  0.008752      1      0.000059      58.666667   OOTX       j-0     False   \n",
       "\n",
       "   OOTX Data  OOTX Axis  \n",
       "0        NaN        NaN  \n",
       "1        1.0        0.0  \n",
       "2        NaN        NaN  \n",
       "3        0.0        1.0  \n",
       "4        NaN        NaN  \n",
       "5        NaN        NaN  \n",
       "6        NaN        NaN  \n",
       "7        0.0        1.0  \n",
       "8        NaN        NaN  \n",
       "9        0.0        0.0  "
      ]
     },
     "execution_count": 29,
     "metadata": {},
     "output_type": "execute_result"
    }
   ],
   "source": [
    "df_usec = (df['Duration [s]'] * 1_000_000).to_frame('Duration [µs]')\n",
    "df_combined = df.join((df_usec, df_type, df_ootx)).drop(columns=['OOTX'])\n",
    "df_combined.head(n=10)"
   ]
  },
  {
   "cell_type": "markdown",
   "metadata": {},
   "source": [
    "We also have a handful of values that could not be classified:"
   ]
  },
  {
   "cell_type": "code",
   "execution_count": 30,
   "metadata": {},
   "outputs": [
    {
     "data": {
      "text/plain": [
       "count    571.000000\n",
       "mean       1.370695\n",
       "std        0.477098\n",
       "min        0.458333\n",
       "25%        0.958333\n",
       "50%        1.375000\n",
       "75%        1.708333\n",
       "max        2.250000\n",
       "Name: Duration [µs], dtype: float64"
      ]
     },
     "execution_count": 30,
     "metadata": {},
     "output_type": "execute_result"
    }
   ],
   "source": [
    "df_combined[df_combined.Type == 'Unknown']['Duration [µs]'].describe()"
   ]
  },
  {
   "cell_type": "markdown",
   "metadata": {},
   "source": [
    "When we look at the distribution of values, we find that these are lower than the OOTX frame length even though `OOTX` type classification uses an upper boundary.\n",
    "Per definition, the area around 10 µs is excluded, but the largest amount of values appears at a duration of 1 µs.\n",
    "From the data, we find that about 1.1% of our data is \"broken\"."
   ]
  },
  {
   "cell_type": "code",
   "execution_count": 31,
   "metadata": {},
   "outputs": [
    {
     "data": {
      "text/plain": [
       "0.07993840123197536"
      ]
     },
     "execution_count": 31,
     "metadata": {},
     "output_type": "execute_result"
    }
   ],
   "source": [
    "df_combined.loc[df_combined.Type == 'Unknown', 'Level'].count() / df_combined['Level'].count()"
   ]
  },
  {
   "cell_type": "code",
   "execution_count": 32,
   "metadata": {},
   "outputs": [
    {
     "data": {
      "image/png": "[encoded data removed]",
      "text/plain": [
       "<Figure size 432x288 with 1 Axes>"
      ]
     },
     "metadata": {
      "needs_background": "light"
     },
     "output_type": "display_data"
    }
   ],
   "source": [
    "df_combined[df_combined.Type == 'Unknown']['Duration [µs]'].plot.hist(bins=range(0, 50, 1));"
   ]
  },
  {
   "cell_type": "markdown",
   "metadata": {},
   "source": [
    "Looking at a longer sample, we find that the unknown pulses are indeed in locations where we would expect pulses from the laser sweeps. There are, however, also locations where sweeps are entirely missing."
   ]
  },
  {
   "cell_type": "code",
   "execution_count": 33,
   "metadata": {},
   "outputs": [
    {
     "data": {
      "text/html": [
       "<div>\n",
       "<style scoped>\n",
       "    .dataframe tbody tr th:only-of-type {\n",
       "        vertical-align: middle;\n",
       "    }\n",
       "\n",
       "    .dataframe tbody tr th {\n",
       "        vertical-align: top;\n",
       "    }\n",
       "\n",
       "    .dataframe thead th {\n",
       "        text-align: right;\n",
       "    }\n",
       "</style>\n",
       "<table border=\"1\" class=\"dataframe\">\n",
       "  <thead>\n",
       "    <tr style=\"text-align: right;\">\n",
       "      <th></th>\n",
       "      <th>Time [s]</th>\n",
       "      <th>Level</th>\n",
       "      <th>Duration [s]</th>\n",
       "      <th>Duration [µs]</th>\n",
       "      <th>Type</th>\n",
       "      <th>OOTX Name</th>\n",
       "      <th>OOTX Skip</th>\n",
       "      <th>OOTX Data</th>\n",
       "      <th>OOTX Axis</th>\n",
       "    </tr>\n",
       "  </thead>\n",
       "  <tbody>\n",
       "    <tr>\n",
       "      <th>1</th>\n",
       "      <td>0.000000</td>\n",
       "      <td>1</td>\n",
       "      <td>7.458333e-05</td>\n",
       "      <td>74.583333</td>\n",
       "      <td>OOTX</td>\n",
       "      <td>j-1</td>\n",
       "      <td>False</td>\n",
       "      <td>1.0</td>\n",
       "      <td>0.0</td>\n",
       "    </tr>\n",
       "    <tr>\n",
       "      <th>3</th>\n",
       "      <td>0.000419</td>\n",
       "      <td>1</td>\n",
       "      <td>1.110417e-04</td>\n",
       "      <td>111.041667</td>\n",
       "      <td>OOTX</td>\n",
       "      <td>k-2</td>\n",
       "      <td>True</td>\n",
       "      <td>0.0</td>\n",
       "      <td>1.0</td>\n",
       "    </tr>\n",
       "    <tr>\n",
       "      <th>5</th>\n",
       "      <td>0.003090</td>\n",
       "      <td>1</td>\n",
       "      <td>1.416667e-05</td>\n",
       "      <td>14.166667</td>\n",
       "      <td>Pulse</td>\n",
       "      <td>NaN</td>\n",
       "      <td>NaN</td>\n",
       "      <td>NaN</td>\n",
       "      <td>NaN</td>\n",
       "    </tr>\n",
       "    <tr>\n",
       "      <th>7</th>\n",
       "      <td>0.008333</td>\n",
       "      <td>1</td>\n",
       "      <td>1.065000e-04</td>\n",
       "      <td>106.500000</td>\n",
       "      <td>OOTX</td>\n",
       "      <td>k-2</td>\n",
       "      <td>True</td>\n",
       "      <td>0.0</td>\n",
       "      <td>1.0</td>\n",
       "    </tr>\n",
       "    <tr>\n",
       "      <th>9</th>\n",
       "      <td>0.008752</td>\n",
       "      <td>1</td>\n",
       "      <td>5.866667e-05</td>\n",
       "      <td>58.666667</td>\n",
       "      <td>OOTX</td>\n",
       "      <td>j-0</td>\n",
       "      <td>False</td>\n",
       "      <td>0.0</td>\n",
       "      <td>0.0</td>\n",
       "    </tr>\n",
       "    <tr>\n",
       "      <th>11</th>\n",
       "      <td>0.013499</td>\n",
       "      <td>1</td>\n",
       "      <td>1.625000e-06</td>\n",
       "      <td>1.625000</td>\n",
       "      <td>Unknown</td>\n",
       "      <td>NaN</td>\n",
       "      <td>NaN</td>\n",
       "      <td>NaN</td>\n",
       "      <td>NaN</td>\n",
       "    </tr>\n",
       "    <tr>\n",
       "      <th>13</th>\n",
       "      <td>0.016668</td>\n",
       "      <td>1</td>\n",
       "      <td>1.369167e-04</td>\n",
       "      <td>136.916667</td>\n",
       "      <td>OOTX</td>\n",
       "      <td>NaN</td>\n",
       "      <td>NaN</td>\n",
       "      <td>NaN</td>\n",
       "      <td>NaN</td>\n",
       "    </tr>\n",
       "    <tr>\n",
       "      <th>15</th>\n",
       "      <td>0.017087</td>\n",
       "      <td>1</td>\n",
       "      <td>8.916667e-05</td>\n",
       "      <td>89.166667</td>\n",
       "      <td>OOTX</td>\n",
       "      <td>k-1</td>\n",
       "      <td>False</td>\n",
       "      <td>1.0</td>\n",
       "      <td>1.0</td>\n",
       "    </tr>\n",
       "    <tr>\n",
       "      <th>17</th>\n",
       "      <td>0.021529</td>\n",
       "      <td>1</td>\n",
       "      <td>1.416667e-06</td>\n",
       "      <td>1.416667</td>\n",
       "      <td>Unknown</td>\n",
       "      <td>NaN</td>\n",
       "      <td>NaN</td>\n",
       "      <td>NaN</td>\n",
       "      <td>NaN</td>\n",
       "    </tr>\n",
       "    <tr>\n",
       "      <th>19</th>\n",
       "      <td>0.025002</td>\n",
       "      <td>1</td>\n",
       "      <td>8.495833e-05</td>\n",
       "      <td>84.958333</td>\n",
       "      <td>OOTX</td>\n",
       "      <td>k-1</td>\n",
       "      <td>False</td>\n",
       "      <td>1.0</td>\n",
       "      <td>1.0</td>\n",
       "    </tr>\n",
       "    <tr>\n",
       "      <th>21</th>\n",
       "      <td>0.025420</td>\n",
       "      <td>1</td>\n",
       "      <td>1.209583e-04</td>\n",
       "      <td>120.958333</td>\n",
       "      <td>OOTX</td>\n",
       "      <td>j-3</td>\n",
       "      <td>True</td>\n",
       "      <td>1.0</td>\n",
       "      <td>0.0</td>\n",
       "    </tr>\n",
       "    <tr>\n",
       "      <th>23</th>\n",
       "      <td>0.027335</td>\n",
       "      <td>1</td>\n",
       "      <td>6.083333e-06</td>\n",
       "      <td>6.083333</td>\n",
       "      <td>Pulse</td>\n",
       "      <td>NaN</td>\n",
       "      <td>NaN</td>\n",
       "      <td>NaN</td>\n",
       "      <td>NaN</td>\n",
       "    </tr>\n",
       "    <tr>\n",
       "      <th>25</th>\n",
       "      <td>0.033335</td>\n",
       "      <td>1</td>\n",
       "      <td>9.616667e-05</td>\n",
       "      <td>96.166667</td>\n",
       "      <td>OOTX</td>\n",
       "      <td>j-2</td>\n",
       "      <td>True</td>\n",
       "      <td>0.0</td>\n",
       "      <td>0.0</td>\n",
       "    </tr>\n",
       "    <tr>\n",
       "      <th>27</th>\n",
       "      <td>0.033755</td>\n",
       "      <td>1</td>\n",
       "      <td>1.103750e-04</td>\n",
       "      <td>110.375000</td>\n",
       "      <td>OOTX</td>\n",
       "      <td>k-2</td>\n",
       "      <td>True</td>\n",
       "      <td>0.0</td>\n",
       "      <td>1.0</td>\n",
       "    </tr>\n",
       "    <tr>\n",
       "      <th>29</th>\n",
       "      <td>0.036426</td>\n",
       "      <td>1</td>\n",
       "      <td>1.420833e-05</td>\n",
       "      <td>14.208333</td>\n",
       "      <td>Pulse</td>\n",
       "      <td>NaN</td>\n",
       "      <td>NaN</td>\n",
       "      <td>NaN</td>\n",
       "      <td>NaN</td>\n",
       "    </tr>\n",
       "    <tr>\n",
       "      <th>31</th>\n",
       "      <td>0.041669</td>\n",
       "      <td>1</td>\n",
       "      <td>1.267500e-04</td>\n",
       "      <td>126.750000</td>\n",
       "      <td>OOTX</td>\n",
       "      <td>k-3</td>\n",
       "      <td>True</td>\n",
       "      <td>1.0</td>\n",
       "      <td>1.0</td>\n",
       "    </tr>\n",
       "    <tr>\n",
       "      <th>33</th>\n",
       "      <td>0.042087</td>\n",
       "      <td>1</td>\n",
       "      <td>7.925000e-05</td>\n",
       "      <td>79.250000</td>\n",
       "      <td>OOTX</td>\n",
       "      <td>j-1</td>\n",
       "      <td>False</td>\n",
       "      <td>1.0</td>\n",
       "      <td>0.0</td>\n",
       "    </tr>\n",
       "    <tr>\n",
       "      <th>35</th>\n",
       "      <td>0.046834</td>\n",
       "      <td>1</td>\n",
       "      <td>9.583333e-07</td>\n",
       "      <td>0.958333</td>\n",
       "      <td>Unknown</td>\n",
       "      <td>NaN</td>\n",
       "      <td>NaN</td>\n",
       "      <td>NaN</td>\n",
       "      <td>NaN</td>\n",
       "    </tr>\n",
       "    <tr>\n",
       "      <th>37</th>\n",
       "      <td>0.050003</td>\n",
       "      <td>1</td>\n",
       "      <td>1.167917e-04</td>\n",
       "      <td>116.791667</td>\n",
       "      <td>OOTX</td>\n",
       "      <td>j-3</td>\n",
       "      <td>True</td>\n",
       "      <td>1.0</td>\n",
       "      <td>0.0</td>\n",
       "    </tr>\n",
       "    <tr>\n",
       "      <th>39</th>\n",
       "      <td>0.050424</td>\n",
       "      <td>1</td>\n",
       "      <td>6.879167e-05</td>\n",
       "      <td>68.791667</td>\n",
       "      <td>OOTX</td>\n",
       "      <td>k-0</td>\n",
       "      <td>False</td>\n",
       "      <td>0.0</td>\n",
       "      <td>1.0</td>\n",
       "    </tr>\n",
       "  </tbody>\n",
       "</table>\n",
       "</div>"
      ],
      "text/plain": [
       "    Time [s]  Level  Duration [s]  Duration [µs]     Type OOTX Name OOTX Skip  \\\n",
       "1   0.000000      1  7.458333e-05      74.583333     OOTX       j-1     False   \n",
       "3   0.000419      1  1.110417e-04     111.041667     OOTX       k-2      True   \n",
       "5   0.003090      1  1.416667e-05      14.166667    Pulse       NaN       NaN   \n",
       "7   0.008333      1  1.065000e-04     106.500000     OOTX       k-2      True   \n",
       "9   0.008752      1  5.866667e-05      58.666667     OOTX       j-0     False   \n",
       "11  0.013499      1  1.625000e-06       1.625000  Unknown       NaN       NaN   \n",
       "13  0.016668      1  1.369167e-04     136.916667     OOTX       NaN       NaN   \n",
       "15  0.017087      1  8.916667e-05      89.166667     OOTX       k-1     False   \n",
       "17  0.021529      1  1.416667e-06       1.416667  Unknown       NaN       NaN   \n",
       "19  0.025002      1  8.495833e-05      84.958333     OOTX       k-1     False   \n",
       "21  0.025420      1  1.209583e-04     120.958333     OOTX       j-3      True   \n",
       "23  0.027335      1  6.083333e-06       6.083333    Pulse       NaN       NaN   \n",
       "25  0.033335      1  9.616667e-05      96.166667     OOTX       j-2      True   \n",
       "27  0.033755      1  1.103750e-04     110.375000     OOTX       k-2      True   \n",
       "29  0.036426      1  1.420833e-05      14.208333    Pulse       NaN       NaN   \n",
       "31  0.041669      1  1.267500e-04     126.750000     OOTX       k-3      True   \n",
       "33  0.042087      1  7.925000e-05      79.250000     OOTX       j-1     False   \n",
       "35  0.046834      1  9.583333e-07       0.958333  Unknown       NaN       NaN   \n",
       "37  0.050003      1  1.167917e-04     116.791667     OOTX       j-3      True   \n",
       "39  0.050424      1  6.879167e-05      68.791667     OOTX       k-0     False   \n",
       "\n",
       "    OOTX Data  OOTX Axis  \n",
       "1         1.0        0.0  \n",
       "3         0.0        1.0  \n",
       "5         NaN        NaN  \n",
       "7         0.0        1.0  \n",
       "9         0.0        0.0  \n",
       "11        NaN        NaN  \n",
       "13        NaN        NaN  \n",
       "15        1.0        1.0  \n",
       "17        NaN        NaN  \n",
       "19        1.0        1.0  \n",
       "21        1.0        0.0  \n",
       "23        NaN        NaN  \n",
       "25        0.0        0.0  \n",
       "27        0.0        1.0  \n",
       "29        NaN        NaN  \n",
       "31        1.0        1.0  \n",
       "33        1.0        0.0  \n",
       "35        NaN        NaN  \n",
       "37        1.0        0.0  \n",
       "39        0.0        1.0  "
      ]
     },
     "execution_count": 33,
     "metadata": {},
     "output_type": "execute_result"
    }
   ],
   "source": [
    "df_combined[df_combined.Type != '-'].head(n=20)"
   ]
  },
  {
   "cell_type": "markdown",
   "metadata": {},
   "source": [
    "At any point, we may miss one OOTX pulse for various reasons, and we may miss a laser sweep. However, by inspecting the average delays between OOTX pulses, we can determine the transition between two subsequently observed peaks:"
   ]
  },
  {
   "cell_type": "code",
   "execution_count": 34,
   "metadata": {},
   "outputs": [
    {
     "data": {
      "text/plain": [
       "array([0.008334  , 0.00041967, 0.007915  , 0.008334  ])"
      ]
     },
     "execution_count": 34,
     "metadata": {},
     "output_type": "execute_result"
    }
   ],
   "source": [
    "ootx_1_to_1 = np.array([0.016668 - 0.008333, 0.025002 - 0.016668, 0.033335 - 0.025002]).mean()\n",
    "ootx_1_to_2 = np.array([0.000419 - 0.000000, 0.008752 - 0.008333, 0.050424 - 0.050003]).mean()\n",
    "ootx_2_to_1 = np.array([0.008333 - 0.000419, 0.025002 - 0.017087, 0.050003 - 0.042087]).mean()\n",
    "ootx_2_to_2 = np.array([0.050424 - 0.042087, 0.042087 - 0.033755, 0.025420 - 0.017087]).mean()\n",
    "np.array([ootx_1_to_1, ootx_1_to_2, ootx_2_to_1, ootx_2_to_2])"
   ]
  },
  {
   "cell_type": "markdown",
   "metadata": {},
   "source": [
    "One issue here is that we are not able to tell whether a transition is B-to-B or A/C-to-A/C. The only way to know for sure is to either observe a different OOTX pulse or a sweep."
   ]
  },
  {
   "cell_type": "code",
   "execution_count": 35,
   "metadata": {},
   "outputs": [
    {
     "name": "stdout",
     "output_type": "stream",
     "text": [
      "Lost OOTX 1 frame at time 0.0 in transition from 1 to 2; was OOTXState.OOTX_None\n",
      "Lost OOTX 1 frame at time 0.000418708333333 in transition from 1 to 2; was OOTXState.OOTX_2\n"
     ]
    }
   ],
   "source": [
    "class OOTXState(Enum):\n",
    "    OOTX_None = 0\n",
    "    OOTX_1 = 1,\n",
    "    OOTX_2 = 2\n",
    "\n",
    "cycle_length = 0.008333  # seconds\n",
    "cycle_start = 0\n",
    "previous_ootx = OOTXState.OOTX_None\n",
    "\n",
    "previous_ootx_frame_times = collections.deque(maxlen=3)\n",
    "previous_ootx_frame_times.append(0)\n",
    "\n",
    "ootx_1_data_bits = bitstring.BitStream()\n",
    "ootx_2_data_bits = bitstring.BitStream()\n",
    "\n",
    "for index, row in df_combined.iterrows():\n",
    "    time = row['Time [s]']\n",
    "    is_ootx = row['Type'] == 'OOTX'\n",
    "    is_pulse = row['Type'] == 'Pulse'\n",
    "    \n",
    "    if is_ootx:\n",
    "        ootx_data = row['OOTX Data']\n",
    "        \n",
    "        # Hacky fix: OOTX frames that are slightly longer than the max value\n",
    "        #            will result in an invalid encoding. This only happens\n",
    "        #            with the largest frames, which encode a 1 it.\n",
    "        ootx_data = 1 if np.isnan(ootx_data) else int(ootx_data)\n",
    "        \n",
    "        previous_ootx_frame_times.append(time)\n",
    "        previous_ootx_time = previous_ootx_frame_times[-2]\n",
    "        time_since_last_ootx = time - previous_ootx_time\n",
    "        \n",
    "        err_transition_1_to_2 = np.abs(time_since_last_ootx - 0.00041967)\n",
    "        err_transition_2_to_1 = np.abs(time_since_last_ootx - 0.007915)\n",
    "        err_transition_n_to_n = np.abs(time_since_last_ootx - 0.008334)\n",
    "        \n",
    "        epsilon = 0.001\n",
    "        transition_1_to_2 = err_transition_1_to_2 <= epsilon\n",
    "        transition_2_to_1 = err_transition_2_to_1 <= epsilon\n",
    "        transition_n_to_n = err_transition_n_to_n <= epsilon\n",
    "        \n",
    "        if transition_1_to_2:\n",
    "            # Synchronize clock and state\n",
    "            cycle_start = previous_ootx_time\n",
    "            if previous_ootx != OOTXState.OOTX_1:\n",
    "                print('Lost OOTX 1 frame at time', time, 'in transition from 1 to 2; was', previous_ootx)\n",
    "            else:\n",
    "                # Decode current OOTX frame and attach to OOTX 2 buffer\n",
    "                ootx_2_data_bits.insert(f'0b{ootx_data}')\n",
    "            previous_ootx = OOTXState.OOTX_2\n",
    "\n",
    "        elif transition_2_to_1:\n",
    "            # Synchronize clock and state\n",
    "            cycle_start = time\n",
    "            if previous_ootx != OOTXState.OOTX_2:\n",
    "                print('Lost OOTX 2 frame at time', time, 'in transition from 2 to 1; was', previous_ootx)\n",
    "            else:\n",
    "                # Decode current OOTX frame and attach to OOTX 1 buffer\n",
    "                ootx_1_data_bits.insert(f'0b{ootx_data}')\n",
    "            previous_ootx = OOTXState.OOTX_1\n",
    "\n",
    "        elif transition_n_to_n:\n",
    "            # If clock is synchronized, determine frame; otherwise drop\n",
    "            if previous_ootx == OOTXState.OOTX_1:\n",
    "                print('Lost OOTX 2 frame at time', time, 'in long transition; was', previous_ootx)\n",
    "                ootx_1_data_bits.insert(f'0b{ootx_data}')\n",
    "            elif previous_ootx == OOTXState.OOTX_2:\n",
    "                print('Lost OOTX 1 frame at time', time, 'in long transition; was', previous_ootx)\n",
    "                ootx_2_data_bits.insert(f'0b{ootx_data}')"
   ]
  },
  {
   "cell_type": "code",
   "execution_count": 36,
   "metadata": {},
   "outputs": [
    {
     "data": {
      "text/plain": [
       "(1199, 1199)"
      ]
     },
     "execution_count": 36,
     "metadata": {},
     "output_type": "execute_result"
    }
   ],
   "source": [
    "len(ootx_1_data_bits), len(ootx_2_data_bits)"
   ]
  },
  {
   "cell_type": "markdown",
   "metadata": {},
   "source": [
    "Let's inspect the data collected for the first base station:"
   ]
  },
  {
   "cell_type": "code",
   "execution_count": 37,
   "metadata": {},
   "outputs": [
    {
     "data": {
      "text/plain": [
       "'01101101010101110101010101010100011101100111110111101101110111100101010101010101010001110100010101011101011001100111110111110111011111101111010001101110010111110111010011000101010001011100011101010110011111101100011001100101011101011100111001010101111111010100010101000111010101111110111001101100010011101111011101101101111111111111010001110110110001101110110011110101010011010101010101010101110011011111011011100111011111000101010101010101010111010101010101110101110111001110011111011101111111101100010011111101011011011100011101000101010001100101110001001100111011110101110111010101110101110110110101010111111001010101010001001101010111101110110011110100011111111101110111110110111011111101010011011110010011101111011011010101011101010101010101000111011001111101111011011101111001010101010101010100011101000101010111010110011001111101111101110111111011110100011011100101111101110100110001010100010111000111010101100111111011000110011001010111010111001110010101011111110101000101010001110101011111101110011011000100111011110111011011011111111111110100011101101100011011101100111101010100110101010101010101011100110111110110111001110111110001010101010101010101110101010101011101011101110011100111110'"
      ]
     },
     "execution_count": 37,
     "metadata": {},
     "output_type": "execute_result"
    }
   ],
   "source": [
    "ootx_1_data_bits.bin"
   ]
  },
  {
   "cell_type": "markdown",
   "metadata": {},
   "source": [
    "Searching for the synchronization sequence yields nothing."
   ]
  },
  {
   "cell_type": "code",
   "execution_count": 38,
   "metadata": {},
   "outputs": [
    {
     "data": {
      "text/plain": [
       "()"
      ]
     },
     "execution_count": 38,
     "metadata": {},
     "output_type": "execute_result"
    }
   ],
   "source": [
    "ootx_1_data_bits.find('0b000000000000000001')"
   ]
  },
  {
   "cell_type": "markdown",
   "metadata": {},
   "source": [
    "The second base station did start a sequence however:"
   ]
  },
  {
   "cell_type": "code",
   "execution_count": 39,
   "metadata": {},
   "outputs": [
    {
     "data": {
      "text/plain": [
       "(122,)"
      ]
     },
     "execution_count": 39,
     "metadata": {},
     "output_type": "execute_result"
    }
   ],
   "source": [
    "ootx_2_data_bits.find('0b000000000000000001')"
   ]
  },
  {
   "cell_type": "code",
   "execution_count": 40,
   "metadata": {},
   "outputs": [
    {
     "data": {
      "text/plain": [
       "'000000000000000001001000010000000010000011001101101111111011110011011010001010001001110001010100101111101100010001010101110100001000110111010011000010011100000100000010011101001010001100011010111010010100111111101011111111011000101000000110100000010100100101000100101110111001000010000110110010000000000010100000000000000001111010111100111110101111101100101100000000000000000100100001000000001000001100110110111111101111001101101000101000100111000101010010111110110001000101010111010000100011011101001100001001110000010000001001110100101000110001101011101001010011111110101111111101100010100000011010000001010010010100010010111011100100001000011011001000000000001010000000000000000111101011110011111010111110110010110000000000000000010010000100000000100000110011011011111110111100110110100010100010011100010101001011111011000100010101011101000010001101110100110000100111000001000000100111010010100011000110101110100101001111111010111111110110001010000001101000000101001001010001001011101110010000100001101100100000000000101000000000000000011110101111001111101011111011001011000'"
      ]
     },
     "execution_count": 40,
     "metadata": {},
     "output_type": "execute_result"
    }
   ],
   "source": [
    "sequence = ootx_2_data_bits[122:]\n",
    "sequence.bin"
   ]
  },
  {
   "cell_type": "code",
   "execution_count": 41,
   "metadata": {},
   "outputs": [
    {
     "data": {
      "text/plain": [
       "33"
      ]
     },
     "execution_count": 41,
     "metadata": {},
     "output_type": "execute_result"
    }
   ],
   "source": [
    "seq_length = sequence[18:18+16].unpack('uintle:16')[0]\n",
    "seq_length"
   ]
  },
  {
   "cell_type": "markdown",
   "metadata": {},
   "source": [
    "The bit after the length (i.e. the 17th bit in the sequence) is expected to be a padding `1`:"
   ]
  },
  {
   "cell_type": "code",
   "execution_count": 42,
   "metadata": {},
   "outputs": [
    {
     "data": {
      "text/plain": [
       "'1'"
      ]
     },
     "execution_count": 42,
     "metadata": {},
     "output_type": "execute_result"
    }
   ],
   "source": [
    "sequence[18+16:18+17].bin"
   ]
  },
  {
   "cell_type": "code",
   "execution_count": 43,
   "metadata": {},
   "outputs": [
    {
     "data": {
      "text/plain": [
       "BitStream('0x066dfde6d144e2a5f622ae846e984e0813a518d74a7f5fec50340a4a25dc843640050000f5e7d7d9600009080419b7f79b45138a97d88aba11ba6138204e94635d29fd7fb140d02928977210d900140003d79f5f65800024201066dfde6d144e2a5f622ae846e984e0813a518d74a7f5fec50340a4a25dc84364005000...') # length=1042"
      ]
     },
     "execution_count": 43,
     "metadata": {},
     "output_type": "execute_result"
    }
   ],
   "source": [
    "sequence = sequence[18+17:]\n",
    "sequence"
   ]
  },
  {
   "cell_type": "code",
   "execution_count": 44,
   "metadata": {},
   "outputs": [],
   "source": [
    "bytes_ = []\n",
    "bytes_to_read = 16\n",
    "payload_sequence = sequence\n",
    "\n",
    "for i in range(seq_length):\n",
    "    segment = payload_sequence[0:8]\n",
    "    payload_sequence = payload_sequence[8:]\n",
    "    \n",
    "    value = segment.unpack('uint:8')[0]\n",
    "    bytes_.append(value)\n",
    "\n",
    "    bytes_to_read -= 8\n",
    "    if bytes_to_read == 0:\n",
    "        bytes_to_read = 16\n",
    "        assert payload_sequence[0] == True\n",
    "        payload_sequence = payload_sequence[1:]"
   ]
  },
  {
   "cell_type": "code",
   "execution_count": 45,
   "metadata": {},
   "outputs": [
    {
     "data": {
      "text/plain": [
       "(33,\n",
       " b'\\x06m\\xfb\\xcdE\\x13\\x15/b*\\xd0\\x8d\\xa6\\x13\\x04\\t\\xa5\\x18\\xae\\x94\\xfd\\x7fb\\x81@\\xa4D\\xbb!\\r \\x02\\x00')"
      ]
     },
     "execution_count": 45,
     "metadata": {},
     "output_type": "execute_result"
    }
   ],
   "source": [
    "bytes_ = bytes(bytes_)\n",
    "len(bytes_), bytes_"
   ]
  },
  {
   "cell_type": "markdown",
   "metadata": {},
   "source": [
    "Remove padding byte and sync bit:\n",
    "\n",
    "> If the number of payload bytes is not a multiple of 2, a padding byte (zero-byte) is added so that the Payload field can always end with a Sync Bit."
   ]
  },
  {
   "cell_type": "code",
   "execution_count": 46,
   "metadata": {},
   "outputs": [],
   "source": [
    "if bytes_to_read == 8:\n",
    "    assert len(bytes_) % 2 != 0\n",
    "    payload_sequence = payload_sequence[9:]"
   ]
  },
  {
   "cell_type": "markdown",
   "metadata": {},
   "source": [
    "We're now left with the remainder of the current sequence and are able to identify another sequence start immediately after it."
   ]
  },
  {
   "cell_type": "code",
   "execution_count": 47,
   "metadata": {},
   "outputs": [
    {
     "data": {
      "text/plain": [
       "('111010111100111110101111101100101100000000000000000100100001000000001000001100110110111111101111001101101000101000100111000101010010111110110001000101010111010000100011011101001100001001110000010000001001110100101000110001101011101001010011111110101111111101100010100000011010000001010010010100010010111011100100001000011011001000000000001010000000000000000111101011110011111010111110110010110000000000000000010010000100000000100000110011011011111110111100110110100010100010011100010101001011111011000100010101011101000010001101110100110000100111000001000000100111010010100011000110101110100101001111111010111111110110001010000001101000000101001001010001001011101110010000100001101100100000000000101000000000000000011110101111001111101011111011001011000',\n",
       " (35,))"
      ]
     },
     "execution_count": 47,
     "metadata": {},
     "output_type": "execute_result"
    }
   ],
   "source": [
    "sequence = payload_sequence\n",
    "sequence.bin, sequence.find('0b00000000000000001')"
   ]
  },
  {
   "cell_type": "markdown",
   "metadata": {},
   "source": [
    "The CRC32 checksum is 32 bit long; since a Sync Bit is placed every 16 bits, the total length is 34 bits, which explains why we observe a sequence start at position 35 in the output above.\n",
    "\n",
    "We can now extract the CRC32 checksum and convert it to an integer for visualization convenience."
   ]
  },
  {
   "cell_type": "code",
   "execution_count": 48,
   "metadata": {},
   "outputs": [
    {
     "data": {
      "text/plain": [
       "('11101011110011110101111101100101', 1700777963)"
      ]
     },
     "execution_count": 48,
     "metadata": {},
     "output_type": "execute_result"
    }
   ],
   "source": [
    "crc32_seq = sequence[0:16] + sequence[17:33]\n",
    "assert sequence[16] == True\n",
    "assert sequence[13] == True\n",
    "\n",
    "crc32 = crc32_seq.unpack('uintle:32')[0]\n",
    "bitstring.BitArray(pack('<I', crc32)).bin, crc32"
   ]
  },
  {
   "cell_type": "markdown",
   "metadata": {},
   "source": [
    "When we compare this value against the CRC32 checksum calculated directly from the bytes, we find that the values match."
   ]
  },
  {
   "cell_type": "code",
   "execution_count": 49,
   "metadata": {},
   "outputs": [
    {
     "data": {
      "text/plain": [
       "('01111110010111010111110011100000', 1700777963)"
      ]
     },
     "execution_count": 49,
     "metadata": {},
     "output_type": "execute_result"
    }
   ],
   "source": [
    "crc32_calculated = binascii.crc32(bytes(bytes_))\n",
    "bitstring.BitArray(pack('<I', binascii.crc32(bytes(bytes_[0:-1])) & 0xffffffff)).bin, crc32_calculated"
   ]
  },
  {
   "cell_type": "markdown",
   "metadata": {},
   "source": [
    "Knowing that the sequence is correct, we can extract the individual components. Note that, like before, all values are Little-Endian (LSB first)."
   ]
  },
  {
   "cell_type": "code",
   "execution_count": 50,
   "metadata": {},
   "outputs": [],
   "source": [
    "values = unpack('<HIHHHHBB', bytes_[0:16])\n",
    "fw_version, id_, fcal_0_phase, fcal_1_phase, fcal_0_tilt, fcal_1_tilt, sys_unlock_count, hw_version = values\n",
    "\n",
    "values = unpack('<eebbbeeeeBB', bytes_[16:33])\n",
    "fcal_0_curve, fcal_1_curve, accel_dir_x, accel_dir_y, accel_dir_z, fcal_0_gibphase, fcal_1_gibphase, fcal_0_gibmag, fcal_1_gibmag, mode_current, sys_faults = values\n",
    "\n",
    "fw_version_hi = (fw_version & 0xff00) >> 8\n",
    "fw_version_lo = fw_version & 0xff"
   ]
  },
  {
   "cell_type": "markdown",
   "metadata": {},
   "source": [
    "> The current **protocol version** is 6. For older protocol versions the data structure might look different.\n",
    "> E.g. In version 4 and 5 the data block is only 31 bytes long. The last two fields are missing.\n",
    "\n",
    "> The ID is a (pseudo-)random 32-bit number. The current implementation uses the CRC32 of the 128-bit MCU UID."
   ]
  },
  {
   "cell_type": "code",
   "execution_count": 51,
   "metadata": {
    "scrolled": true
   },
   "outputs": [
    {
     "name": "stdout",
     "output_type": "stream",
     "text": [
      "Station ID            323341819\n",
      "FW version            109 protocol 6\n",
      "HW version            9\n",
      "Current mode          2\n",
      "Unlock count          4\n"
     ]
    }
   ],
   "source": [
    "print('Station ID           ', id_)\n",
    "print('FW version           ', fw_version_hi, 'protocol', fw_version_lo)\n",
    "print('HW version           ', hw_version)\n",
    "print('Current mode         ', mode_current)\n",
    "print('Unlock count         ', sys_unlock_count)"
   ]
  },
  {
   "cell_type": "markdown",
   "metadata": {},
   "source": [
    "> The flags in **sys.faults** are: 2=Unknown, 4=Laser0, 8=Laser1, 16=Motor0, 32=Motor1 [UNCONFIRMED]"
   ]
  },
  {
   "cell_type": "code",
   "execution_count": 52,
   "metadata": {},
   "outputs": [
    {
     "name": "stdout",
     "output_type": "stream",
     "text": [
      "Fault detected        0\n"
     ]
    }
   ],
   "source": [
    "print('Fault detected       ', sys_faults)"
   ]
  },
  {
   "cell_type": "markdown",
   "metadata": {},
   "source": [
    "> The factory calibration **fcal** provides information about nonidealities in the base station's laser emmisions caused by the production process. **fcal.n.phase** corrects the constant phase offset"
   ]
  },
  {
   "cell_type": "code",
   "execution_count": 53,
   "metadata": {},
   "outputs": [
    {
     "name": "stdout",
     "output_type": "stream",
     "text": [
      "Rotor 0 phase         12053\n",
      "Rotor 0 tilt          36304\n",
      "Rotor 0 curve         0.0022678375244140625\n",
      "Rotor 0 gibbous phase 2.251953125\n",
      "Rotor 0 gibbous mag.  0.01119232177734375\n",
      "Rotor 1 phase         10850\n",
      "Rotor 1 tilt          5030\n",
      "Rotor 1 curve         -0.0011425018310546875\n",
      "Rotor 1 gibbous phase 4.640625\n",
      "Rotor 1 gibbous mag.  0.00791168212890625\n"
     ]
    }
   ],
   "source": [
    "print('Rotor 0 phase        ', fcal_0_phase)\n",
    "print('Rotor 0 tilt         ', fcal_0_tilt)\n",
    "print('Rotor 0 curve        ', fcal_0_curve)\n",
    "print('Rotor 0 gibbous phase', fcal_0_gibphase)\n",
    "print('Rotor 0 gibbous mag. ', fcal_0_gibmag)\n",
    "\n",
    "print('Rotor 1 phase        ', fcal_1_phase)\n",
    "print('Rotor 1 tilt         ', fcal_1_tilt)\n",
    "print('Rotor 1 curve        ', fcal_1_curve)\n",
    "print('Rotor 1 gibbous phase', fcal_1_gibphase)\n",
    "print('Rotor 1 gibbous mag. ', fcal_1_gibmag)"
   ]
  },
  {
   "cell_type": "markdown",
   "metadata": {},
   "source": [
    "The orientation vector **accel.dir\\_[xyz]** is not a unit vector and its length has no meaning. It is scaled in a way that its biggest/smallest component always is +127/-127."
   ]
  },
  {
   "cell_type": "code",
   "execution_count": 54,
   "metadata": {},
   "outputs": [
    {
     "name": "stdout",
     "output_type": "stream",
     "text": [
      "Acceleration X        -3\n",
      "Acceleration Y        127\n",
      "Acceleration Z        98\n"
     ]
    }
   ],
   "source": [
    "print('Acceleration X       ', accel_dir_x)\n",
    "print('Acceleration Y       ', accel_dir_y)\n",
    "print('Acceleration Z       ', accel_dir_z)"
   ]
  },
  {
   "cell_type": "code",
   "execution_count": 55,
   "metadata": {},
   "outputs": [
    {
     "data": {
      "text/plain": [
       "array([-0.01869821,  0.7915577 ,  0.6108083 ], dtype=float32)"
      ]
     },
     "execution_count": 55,
     "metadata": {},
     "output_type": "execute_result"
    }
   ],
   "source": [
    "accel = np.array([accel_dir_x, accel_dir_y, accel_dir_z], dtype=np.float32)\n",
    "accel /= np.linalg.norm(accel)\n",
    "accel"
   ]
  },
  {
   "cell_type": "markdown",
   "metadata": {},
   "source": [
    "The base station appears to be laid out in a right-handed coordinate system with\n",
    "\n",
    "- X pointing right (left when looking _at_ the base station)\n",
    "- Y pointing up\n",
    "- Z pointing back (negative Z axis is forward)\n",
    "\n",
    "![](images/base-station-coordinate-system.png)\n",
    "\n",
    "(Image: EE 267 Virtual Reality Course Notes: 6-DOF Pose Tracking with the VRduino, Gordon Wetzstein, 2017)"
   ]
  },
  {
   "cell_type": "code",
   "execution_count": 56,
   "metadata": {},
   "outputs": [],
   "source": [
    "def plot_accel(accel: np.ndarray, elev: float=30, azim: float=125):\n",
    "    fig = plt.figure(figsize=(8, 8))\n",
    "    ax = fig.add_subplot(111, projection='3d')\n",
    "    ax.plot(xs=[0, accel[0]], ys=[0, accel[2]], zs=[0, accel[1]],\n",
    "            linewidth=2, label='Acceleration', linestyle='-.')\n",
    "    ax.plot(xs=[0, -accel[0]], ys=[0, -accel[2]], zs=[0, -accel[1]],\n",
    "            linewidth=5, label='Forward')\n",
    "    ax.plot(xs=[0, 1], ys=[0, 0], zs=[0, 0], label='X', color='r', linestyle=':')\n",
    "    ax.plot(xs=[0, 0], ys=[0, 1], zs=[0, 0], label='Z', color='b', linestyle=':')\n",
    "    ax.plot(xs=[0, 0], ys=[0, 0], zs=[0, 1], label='Y', color='g', linestyle=':')\n",
    "    ax.legend()\n",
    "    ax.set_xlim([-1, 1])\n",
    "    ax.set_ylim([-1, 1])\n",
    "    ax.set_zlim([-1, 1])\n",
    "    ax.set_xlabel('X')\n",
    "    ax.set_ylabel('Y')\n",
    "    ax.set_zlabel('Z')\n",
    "    ax.view_init(elev, azim)\n",
    "    ax.invert_yaxis()\n",
    "    fig.tight_layout();"
   ]
  },
  {
   "cell_type": "code",
   "execution_count": 57,
   "metadata": {},
   "outputs": [
    {
     "data": {
      "image/png": "[encoded data removed]",
      "text/plain": [
       "<Figure size 576x576 with 1 Axes>"
      ]
     },
     "metadata": {
      "needs_background": "light"
     },
     "output_type": "display_data"
    }
   ],
   "source": [
    "plot_accel(accel)"
   ]
  },
  {
   "cell_type": "code",
   "execution_count": 58,
   "metadata": {},
   "outputs": [
    {
     "data": {
      "image/png": "[encoded data removed]",
      "text/plain": [
       "<Figure size 576x576 with 1 Axes>"
      ]
     },
     "metadata": {
      "needs_background": "light"
     },
     "output_type": "display_data"
    }
   ],
   "source": [
    "plot_accel(accel, 0, 180)"
   ]
  },
  {
   "cell_type": "code",
   "execution_count": 59,
   "metadata": {},
   "outputs": [
    {
     "data": {
      "image/png": "[encoded data removed]",
      "text/plain": [
       "<Figure size 576x576 with 1 Axes>"
      ]
     },
     "metadata": {
      "needs_background": "light"
     },
     "output_type": "display_data"
    }
   ],
   "source": [
    "plot_accel(accel, 0, 90)"
   ]
  },
  {
   "cell_type": "code",
   "execution_count": 60,
   "metadata": {},
   "outputs": [
    {
     "data": {
      "image/png": "[encoded data removed]",
      "text/plain": [
       "<Figure size 576x576 with 1 Axes>"
      ]
     },
     "metadata": {
      "needs_background": "light"
     },
     "output_type": "display_data"
    }
   ],
   "source": [
    "plot_accel(accel, 90, 90)"
   ]
  }
 ],
 "metadata": {
  "kernelspec": {
   "display_name": "lighthouse",
   "language": "python",
   "name": "lighthouse"
  },
  "language_info": {
   "codemirror_mode": {
    "name": "ipython",
    "version": 3
   },
   "file_extension": ".py",
   "mimetype": "text/x-python",
   "name": "python",
   "nbconvert_exporter": "python",
   "pygments_lexer": "ipython3",
   "version": "3.6.8"
  }
 },
 "nbformat": 4,
 "nbformat_minor": 2
}
